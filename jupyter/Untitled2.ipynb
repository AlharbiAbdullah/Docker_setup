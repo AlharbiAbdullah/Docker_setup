{
 "cells": [
  {
   "cell_type": "code",
   "execution_count": 1,
   "id": "ee4dbe75-892f-4394-a277-b4eaddae4cd9",
   "metadata": {},
   "outputs": [],
   "source": [
    "import pandas as pd \n",
    "import psycopg2"
   ]
  },
  {
   "cell_type": "code",
   "execution_count": 2,
   "id": "37cd8184-d09c-4a8a-8b02-0cdc4e11420b",
   "metadata": {},
   "outputs": [],
   "source": [
    "con = psycopg2.connect(\n",
    "    host=\"postgresql\",\n",
    "    port=5432,\n",
    "    dbname=\"docker_data\",\n",
    "    user=\"Abdullah\",\n",
    "    password=\"abdullah\"\n",
    ")"
   ]
  },
  {
   "cell_type": "code",
   "execution_count": 3,
   "id": "2764ff09-e0dd-4b60-94a1-bf958afd8489",
   "metadata": {},
   "outputs": [],
   "source": [
    "cur = con.cursor()"
   ]
  },
  {
   "cell_type": "code",
   "execution_count": 4,
   "id": "4031f3d3-3ebd-4fe6-8317-45fb2aeed2a7",
   "metadata": {},
   "outputs": [],
   "source": [
    "cur.execute('select * from mytable')\n",
    "db = cur.fetchall()"
   ]
  },
  {
   "cell_type": "code",
   "execution_count": 5,
   "id": "bf319ac0-00b0-46e2-aa0a-546e81d9acca",
   "metadata": {},
   "outputs": [
    {
     "data": {
      "text/plain": [
       "[(1, 'John', 25, 'john@example.com', 'New York'),\n",
       " (2, 'Alice', 30, 'alice@example.com', 'San Francisco'),\n",
       " (3, 'Bob', 22, 'bob@example.com', 'Los Angeles'),\n",
       " (4, 'Carol', 28, 'carol@example.com', 'Chicago'),\n",
       " (5, 'David', 35, 'david@example.com', 'Houston'),\n",
       " (6, 'Eve', 29, 'eve@example.com', 'Miami'),\n",
       " (7, 'Frank', 31, 'frank@example.com', 'Boston'),\n",
       " (8, 'Grace', 27, 'grace@example.com', 'Seattle'),\n",
       " (9, 'Helen', 26, 'helen@example.com', 'Denver'),\n",
       " (10, 'Ivan', 33, 'ivan@example.com', 'Dallas')]"
      ]
     },
     "execution_count": 5,
     "metadata": {},
     "output_type": "execute_result"
    }
   ],
   "source": [
    "db"
   ]
  },
  {
   "cell_type": "code",
   "execution_count": 6,
   "id": "30774701-47ce-48ab-8b5e-02e248a321b8",
   "metadata": {},
   "outputs": [
    {
     "data": {
      "text/plain": [
       "[(1, 'John', 25, 'john@example.com', 'New York'),\n",
       " (2, 'Alice', 30, 'alice@example.com', 'San Francisco'),\n",
       " (3, 'Bob', 22, 'bob@example.com', 'Los Angeles'),\n",
       " (4, 'Carol', 28, 'carol@example.com', 'Chicago'),\n",
       " (5, 'David', 35, 'david@example.com', 'Houston'),\n",
       " (6, 'Eve', 29, 'eve@example.com', 'Miami'),\n",
       " (7, 'Frank', 31, 'frank@example.com', 'Boston'),\n",
       " (8, 'Grace', 27, 'grace@example.com', 'Seattle'),\n",
       " (9, 'Helen', 26, 'helen@example.com', 'Denver'),\n",
       " (10, 'Ivan', 33, 'ivan@example.com', 'Dallas')]"
      ]
     },
     "execution_count": 6,
     "metadata": {},
     "output_type": "execute_result"
    }
   ],
   "source": [
    "db"
   ]
  },
  {
   "cell_type": "code",
   "execution_count": null,
   "id": "6923824c-cc82-4f8f-ba20-de5eb1eb1f4e",
   "metadata": {},
   "outputs": [],
   "source": []
  }
 ],
 "metadata": {
  "kernelspec": {
   "display_name": "Python 3 (ipykernel)",
   "language": "python",
   "name": "python3"
  },
  "language_info": {
   "codemirror_mode": {
    "name": "ipython",
    "version": 3
   },
   "file_extension": ".py",
   "mimetype": "text/x-python",
   "name": "python",
   "nbconvert_exporter": "python",
   "pygments_lexer": "ipython3",
   "version": "3.11.6"
  }
 },
 "nbformat": 4,
 "nbformat_minor": 5
}
