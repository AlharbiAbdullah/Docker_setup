{
 "cells": [
  {
   "cell_type": "code",
   "execution_count": 2,
   "id": "f95bcca2-2b35-4655-9f45-418ae9aee538",
   "metadata": {},
   "outputs": [
    {
     "name": "stdout",
     "output_type": "stream",
     "text": [
      "The sql extension is already loaded. To reload it, use:\n",
      "  %reload_ext sql\n"
     ]
    }
   ],
   "source": [
    "import pandas as pd \n",
    "import duckdb as duck \n",
    "\n",
    "\n",
    "\n",
    "# Setting up duckdb , jupysql \n",
    "%config SqlMagic.autopandas = True\n",
    "%config SqlMagic.feedback = False\n",
    "%config SqlMagic.displaycon = False\n",
    "\n",
    "# Import jupysql Jupyter extension to create SQL cells\n",
    "%load_ext sql\n",
    "\n",
    "#database path \n",
    "%sql duckdb:///duck_db_database.db"
   ]
  },
  {
   "cell_type": "code",
   "execution_count": 3,
   "id": "c2dd3116-c657-466e-8eee-3208fb56d02c",
   "metadata": {},
   "outputs": [],
   "source": [
    "df_saudi = pd.read_csv('saudi_population.csv')"
   ]
  },
  {
   "cell_type": "code",
   "execution_count": 4,
   "id": "bba83344-2f02-4993-9a0f-05a52e7b83c7",
   "metadata": {},
   "outputs": [
    {
     "data": {
      "text/html": [
       "<div>\n",
       "<style scoped>\n",
       "    .dataframe tbody tr th:only-of-type {\n",
       "        vertical-align: middle;\n",
       "    }\n",
       "\n",
       "    .dataframe tbody tr th {\n",
       "        vertical-align: top;\n",
       "    }\n",
       "\n",
       "    .dataframe thead th {\n",
       "        text-align: right;\n",
       "    }\n",
       "</style>\n",
       "<table border=\"1\" class=\"dataframe\">\n",
       "  <thead>\n",
       "    <tr style=\"text-align: right;\">\n",
       "      <th></th>\n",
       "      <th>Region</th>\n",
       "      <th>Year</th>\n",
       "      <th>Gender</th>\n",
       "      <th>Nationality</th>\n",
       "      <th>Population estimates</th>\n",
       "    </tr>\n",
       "  </thead>\n",
       "  <tbody>\n",
       "    <tr>\n",
       "      <th>157</th>\n",
       "      <td>Najran</td>\n",
       "      <td>2,017</td>\n",
       "      <td>Female</td>\n",
       "      <td>Non-Saudi</td>\n",
       "      <td>43,408</td>\n",
       "    </tr>\n",
       "  </tbody>\n",
       "</table>\n",
       "</div>"
      ],
      "text/plain": [
       "     Region   Year  Gender Nationality Population estimates\n",
       "157  Najran  2,017  Female   Non-Saudi               43,408"
      ]
     },
     "execution_count": 4,
     "metadata": {},
     "output_type": "execute_result"
    }
   ],
   "source": [
    "df_saudi.sample()"
   ]
  },
  {
   "cell_type": "code",
   "execution_count": 5,
   "id": "bff12c9f-4fef-4e09-a42a-95300e04751d",
   "metadata": {},
   "outputs": [
    {
     "data": {
      "text/html": [
       "<div>\n",
       "<style scoped>\n",
       "    .dataframe tbody tr th:only-of-type {\n",
       "        vertical-align: middle;\n",
       "    }\n",
       "\n",
       "    .dataframe tbody tr th {\n",
       "        vertical-align: top;\n",
       "    }\n",
       "\n",
       "    .dataframe thead th {\n",
       "        text-align: right;\n",
       "    }\n",
       "</style>\n",
       "<table border=\"1\" class=\"dataframe\">\n",
       "  <thead>\n",
       "    <tr style=\"text-align: right;\">\n",
       "      <th></th>\n",
       "      <th>Region</th>\n",
       "      <th>Year</th>\n",
       "      <th>Gender</th>\n",
       "      <th>Nationality</th>\n",
       "      <th>Population estimates</th>\n",
       "    </tr>\n",
       "  </thead>\n",
       "  <tbody>\n",
       "    <tr>\n",
       "      <th>650</th>\n",
       "      <td>Al-Baha</td>\n",
       "      <td>2,018</td>\n",
       "      <td>Male</td>\n",
       "      <td>Saudi</td>\n",
       "      <td>111,589</td>\n",
       "    </tr>\n",
       "  </tbody>\n",
       "</table>\n",
       "</div>"
      ],
      "text/plain": [
       "      Region   Year Gender Nationality Population estimates\n",
       "650  Al-Baha  2,018   Male       Saudi              111,589"
      ]
     },
     "execution_count": 5,
     "metadata": {},
     "output_type": "execute_result"
    }
   ],
   "source": [
    "df_saudi.sample()"
   ]
  },
  {
   "cell_type": "code",
   "execution_count": 6,
   "id": "3b1a80d4-6c45-47ef-a484-9682dc6ec060",
   "metadata": {},
   "outputs": [],
   "source": [
    "duck.sql('CREATE TABLE SAUDI_CEN as select * from df_saudi')"
   ]
  },
  {
   "cell_type": "code",
   "execution_count": 10,
   "id": "c32392d2-5769-475e-91de-c3870f57a3e7",
   "metadata": {},
   "outputs": [
    {
     "data": {
      "text/plain": [
       "┌─────────────────┬─────────┬─────────┬─────────────┬──────────────────────┐\n",
       "│     Region      │  Year   │ Gender  │ Nationality │ Population estimates │\n",
       "│     varchar     │ varchar │ varchar │   varchar   │       varchar        │\n",
       "├─────────────────┼─────────┼─────────┼─────────────┼──────────────────────┤\n",
       "│ Madinah         │ 2,014   │ Female  │ Saudi       │ 562,344              │\n",
       "│ Tabouk          │ 2,010   │ Female  │ Saudi       │ 239,792              │\n",
       "│ Hail            │ 2,013   │ Female  │ Saudi       │ 211,727              │\n",
       "│ Eastern Region  │ 2,016   │ Male    │ Saudi       │ 1,308,467            │\n",
       "│ Al-Baha         │ 2,018   │ Female  │ Non-Saudi   │ 16,951               │\n",
       "│ Northern Region │ 2,016   │ Female  │ Non-Saudi   │ 21,111               │\n",
       "│ Al-Jouf         │ 2,013   │ Male    │ Saudi       │ 181,436              │\n",
       "│ Northern Region │ 2,019   │ Female  │ Non-Saudi   │ 21,056               │\n",
       "│ Madinah         │ 2,013   │ Female  │ Saudi       │ 546,260              │\n",
       "│ Qaseem          │ 2,021   │ Male    │ Saudi       │ 451,061              │\n",
       "│   ·             │   ·     │  ·      │   ·         │    ·                 │\n",
       "│   ·             │   ·     │  ·      │   ·         │    ·                 │\n",
       "│   ·             │   ·     │  ·      │   ·         │    ·                 │\n",
       "│ Jazan           │ 2,019   │ Male    │ Saudi       │ 465,289              │\n",
       "│ Al-Jouf         │ 2,014   │ Male    │ Saudi       │ 186,470              │\n",
       "│ Al-Baha         │ 2,014   │ Male    │ Saudi       │ 101,794              │\n",
       "│ Al-Baha         │ 2,021   │ Female  │ Non-Saudi   │ 16,257               │\n",
       "│ Najran          │ 2,015   │ Male    │ Non-Saudi   │ 144,817              │\n",
       "│ Makkah          │ 2,015   │ Male    │ Saudi       │ 1,756,374            │\n",
       "│ Al-Baha         │ 2,015   │ Male    │ Saudi       │ 104,524              │\n",
       "│ Madinah         │ 2,021   │ Male    │ Saudi       │ 658,453              │\n",
       "│ Tabouk          │ 2,020   │ Female  │ Non-Saudi   │ 44,416               │\n",
       "│ Makkah          │ 2,015   │ Female  │ Saudi       │ 1,753,158            │\n",
       "├─────────────────┴─────────┴─────────┴─────────────┴──────────────────────┤\n",
       "│ 676 rows (20 shown)                                            5 columns │\n",
       "└──────────────────────────────────────────────────────────────────────────┘"
      ]
     },
     "execution_count": 10,
     "metadata": {},
     "output_type": "execute_result"
    }
   ],
   "source": [
    "duck.sql('select * from SAUDI_CEN')"
   ]
  },
  {
   "cell_type": "code",
   "execution_count": 11,
   "id": "0d0df37f-e3d4-48de-be54-b4a299ddf65f",
   "metadata": {},
   "outputs": [
    {
     "data": {
      "text/plain": [
       "┌──────────┬─────────┬───────────┬─────────────────────────┬───────────────────────────────────────────────┬───────────┐\n",
       "│ database │ schema  │   name    │      column_names       │                 column_types                  │ temporary │\n",
       "│ varchar  │ varchar │  varchar  │        varchar[]        │                   varchar[]                   │  boolean  │\n",
       "├──────────┼─────────┼───────────┼─────────────────────────┼───────────────────────────────────────────────┼───────────┤\n",
       "│ memory   │ main    │ SAUDI_CEN │ [Region, Year, Gender…  │ [VARCHAR, VARCHAR, VARCHAR, VARCHAR, VARCHAR] │ false     │\n",
       "└──────────┴─────────┴───────────┴─────────────────────────┴───────────────────────────────────────────────┴───────────┘"
      ]
     },
     "execution_count": 11,
     "metadata": {},
     "output_type": "execute_result"
    }
   ],
   "source": [
    "duck.sql('SHOW all tables')"
   ]
  },
  {
   "cell_type": "code",
   "execution_count": 13,
   "id": "68d135b1-b8a5-4806-824e-c6ab959b9270",
   "metadata": {},
   "outputs": [],
   "source": [
    "makkah_df = duck.sql(\"\"\" \n",
    "            select \n",
    "                *\n",
    "            from \n",
    "                SAUDI_CEN s \n",
    "            where \n",
    "                s.Region = 'Makkah' \n",
    "        \"\"\").df()"
   ]
  },
  {
   "cell_type": "code",
   "execution_count": 14,
   "id": "734ae7ea-d5b7-43f5-83ba-b0f7f531d78e",
   "metadata": {},
   "outputs": [
    {
     "data": {
      "text/html": [
       "<div>\n",
       "<style scoped>\n",
       "    .dataframe tbody tr th:only-of-type {\n",
       "        vertical-align: middle;\n",
       "    }\n",
       "\n",
       "    .dataframe tbody tr th {\n",
       "        vertical-align: top;\n",
       "    }\n",
       "\n",
       "    .dataframe thead th {\n",
       "        text-align: right;\n",
       "    }\n",
       "</style>\n",
       "<table border=\"1\" class=\"dataframe\">\n",
       "  <thead>\n",
       "    <tr style=\"text-align: right;\">\n",
       "      <th></th>\n",
       "      <th>Region</th>\n",
       "      <th>Year</th>\n",
       "      <th>Gender</th>\n",
       "      <th>Nationality</th>\n",
       "      <th>Population estimates</th>\n",
       "    </tr>\n",
       "  </thead>\n",
       "  <tbody>\n",
       "    <tr>\n",
       "      <th>20</th>\n",
       "      <td>Makkah</td>\n",
       "      <td>2,018</td>\n",
       "      <td>Female</td>\n",
       "      <td>Non-Saudi</td>\n",
       "      <td>1,103,527</td>\n",
       "    </tr>\n",
       "  </tbody>\n",
       "</table>\n",
       "</div>"
      ],
      "text/plain": [
       "    Region   Year  Gender Nationality Population estimates\n",
       "20  Makkah  2,018  Female   Non-Saudi            1,103,527"
      ]
     },
     "execution_count": 14,
     "metadata": {},
     "output_type": "execute_result"
    }
   ],
   "source": [
    "makkah_df.sample()"
   ]
  },
  {
   "cell_type": "code",
   "execution_count": null,
   "id": "1d569e27-3ab3-4642-bb7f-d72906c3abc5",
   "metadata": {},
   "outputs": [],
   "source": []
  },
  {
   "cell_type": "code",
   "execution_count": 15,
   "id": "041fdfcb-ba78-49da-888b-258955e151e8",
   "metadata": {},
   "outputs": [
    {
     "ename": "OutOfMemoryException",
     "evalue": "Out of Memory Error: failed to allocate data of size 1.0MB (1.5GB/1.5GB used)",
     "output_type": "error",
     "traceback": [
      "\u001b[0;31m---------------------------------------------------------------------------\u001b[0m",
      "\u001b[0;31mOutOfMemoryException\u001b[0m                      Traceback (most recent call last)",
      "File \u001b[0;32m/usr/local/lib/python3.11/site-packages/IPython/core/formatters.py:708\u001b[0m, in \u001b[0;36mPlainTextFormatter.__call__\u001b[0;34m(self, obj)\u001b[0m\n\u001b[1;32m    701\u001b[0m stream \u001b[38;5;241m=\u001b[39m StringIO()\n\u001b[1;32m    702\u001b[0m printer \u001b[38;5;241m=\u001b[39m pretty\u001b[38;5;241m.\u001b[39mRepresentationPrinter(stream, \u001b[38;5;28mself\u001b[39m\u001b[38;5;241m.\u001b[39mverbose,\n\u001b[1;32m    703\u001b[0m     \u001b[38;5;28mself\u001b[39m\u001b[38;5;241m.\u001b[39mmax_width, \u001b[38;5;28mself\u001b[39m\u001b[38;5;241m.\u001b[39mnewline,\n\u001b[1;32m    704\u001b[0m     max_seq_length\u001b[38;5;241m=\u001b[39m\u001b[38;5;28mself\u001b[39m\u001b[38;5;241m.\u001b[39mmax_seq_length,\n\u001b[1;32m    705\u001b[0m     singleton_pprinters\u001b[38;5;241m=\u001b[39m\u001b[38;5;28mself\u001b[39m\u001b[38;5;241m.\u001b[39msingleton_printers,\n\u001b[1;32m    706\u001b[0m     type_pprinters\u001b[38;5;241m=\u001b[39m\u001b[38;5;28mself\u001b[39m\u001b[38;5;241m.\u001b[39mtype_printers,\n\u001b[1;32m    707\u001b[0m     deferred_pprinters\u001b[38;5;241m=\u001b[39m\u001b[38;5;28mself\u001b[39m\u001b[38;5;241m.\u001b[39mdeferred_printers)\n\u001b[0;32m--> 708\u001b[0m \u001b[43mprinter\u001b[49m\u001b[38;5;241;43m.\u001b[39;49m\u001b[43mpretty\u001b[49m\u001b[43m(\u001b[49m\u001b[43mobj\u001b[49m\u001b[43m)\u001b[49m\n\u001b[1;32m    709\u001b[0m printer\u001b[38;5;241m.\u001b[39mflush()\n\u001b[1;32m    710\u001b[0m \u001b[38;5;28;01mreturn\u001b[39;00m stream\u001b[38;5;241m.\u001b[39mgetvalue()\n",
      "File \u001b[0;32m/usr/local/lib/python3.11/site-packages/IPython/lib/pretty.py:410\u001b[0m, in \u001b[0;36mRepresentationPrinter.pretty\u001b[0;34m(self, obj)\u001b[0m\n\u001b[1;32m    407\u001b[0m                         \u001b[38;5;28;01mreturn\u001b[39;00m meth(obj, \u001b[38;5;28mself\u001b[39m, cycle)\n\u001b[1;32m    408\u001b[0m                 \u001b[38;5;28;01mif\u001b[39;00m \u001b[38;5;28mcls\u001b[39m \u001b[38;5;129;01mis\u001b[39;00m \u001b[38;5;129;01mnot\u001b[39;00m \u001b[38;5;28mobject\u001b[39m \\\n\u001b[1;32m    409\u001b[0m                         \u001b[38;5;129;01mand\u001b[39;00m \u001b[38;5;28mcallable\u001b[39m(\u001b[38;5;28mcls\u001b[39m\u001b[38;5;241m.\u001b[39m\u001b[38;5;18m__dict__\u001b[39m\u001b[38;5;241m.\u001b[39mget(\u001b[38;5;124m'\u001b[39m\u001b[38;5;124m__repr__\u001b[39m\u001b[38;5;124m'\u001b[39m)):\n\u001b[0;32m--> 410\u001b[0m                     \u001b[38;5;28;01mreturn\u001b[39;00m \u001b[43m_repr_pprint\u001b[49m\u001b[43m(\u001b[49m\u001b[43mobj\u001b[49m\u001b[43m,\u001b[49m\u001b[43m \u001b[49m\u001b[38;5;28;43mself\u001b[39;49m\u001b[43m,\u001b[49m\u001b[43m \u001b[49m\u001b[43mcycle\u001b[49m\u001b[43m)\u001b[49m\n\u001b[1;32m    412\u001b[0m     \u001b[38;5;28;01mreturn\u001b[39;00m _default_pprint(obj, \u001b[38;5;28mself\u001b[39m, cycle)\n\u001b[1;32m    413\u001b[0m \u001b[38;5;28;01mfinally\u001b[39;00m:\n",
      "File \u001b[0;32m/usr/local/lib/python3.11/site-packages/IPython/lib/pretty.py:778\u001b[0m, in \u001b[0;36m_repr_pprint\u001b[0;34m(obj, p, cycle)\u001b[0m\n\u001b[1;32m    776\u001b[0m \u001b[38;5;250m\u001b[39m\u001b[38;5;124;03m\"\"\"A pprint that just redirects to the normal repr function.\"\"\"\u001b[39;00m\n\u001b[1;32m    777\u001b[0m \u001b[38;5;66;03m# Find newlines and replace them with p.break_()\u001b[39;00m\n\u001b[0;32m--> 778\u001b[0m output \u001b[38;5;241m=\u001b[39m \u001b[38;5;28mrepr\u001b[39m(obj)\n\u001b[1;32m    779\u001b[0m lines \u001b[38;5;241m=\u001b[39m output\u001b[38;5;241m.\u001b[39msplitlines()\n\u001b[1;32m    780\u001b[0m \u001b[38;5;28;01mwith\u001b[39;00m p\u001b[38;5;241m.\u001b[39mgroup():\n",
      "\u001b[0;31mOutOfMemoryException\u001b[0m: Out of Memory Error: failed to allocate data of size 1.0MB (1.5GB/1.5GB used)"
     ]
    }
   ],
   "source": [
    "#Parquet \n",
    "duck.read_parquet('valid.parquet')"
   ]
  },
  {
   "cell_type": "code",
   "execution_count": null,
   "id": "acf91c63-5e3a-4a5a-8876-3edeb50334a9",
   "metadata": {},
   "outputs": [],
   "source": [
    "duc"
   ]
  }
 ],
 "metadata": {
  "kernelspec": {
   "display_name": "Python 3 (ipykernel)",
   "language": "python",
   "name": "python3"
  },
  "language_info": {
   "codemirror_mode": {
    "name": "ipython",
    "version": 3
   },
   "file_extension": ".py",
   "mimetype": "text/x-python",
   "name": "python",
   "nbconvert_exporter": "python",
   "pygments_lexer": "ipython3",
   "version": "3.11.6"
  }
 },
 "nbformat": 4,
 "nbformat_minor": 5
}
